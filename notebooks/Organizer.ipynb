{
 "cells": [
  {
   "cell_type": "code",
   "execution_count": 1,
   "metadata": {},
   "outputs": [],
   "source": [
    "import numpy as np\n",
    "import pandas as pd\n",
    "import pandasql as psql\n",
    "\n",
    "from sklearn.model_selection import train_test_split\n",
    "from sklearn.preprocessing import LabelEncoder\n",
    "from sklearn.tree import DecisionTreeClassifier\n",
    "from sklearn.metrics import confusion_matrix, classification_report\n",
    "from sklearn.ensemble import RandomForestClassifier\n",
    "from sklearn.preprocessing import OneHotEncoder\n",
    "\n",
    "import scipy.sparse"
   ]
  },
  {
   "cell_type": "markdown",
   "metadata": {},
   "source": [
    "# Import DataFrame"
   ]
  },
  {
   "cell_type": "code",
   "execution_count": 2,
   "metadata": {},
   "outputs": [],
   "source": [
    "df = pd.read_csv(\"~/Downloads/bigml_59c28831336c6604c800002a.csv\")"
   ]
  },
  {
   "cell_type": "markdown",
   "metadata": {},
   "source": [
    "# Label Encode Explanatory Data"
   ]
  },
  {
   "cell_type": "code",
   "execution_count": 3,
   "metadata": {},
   "outputs": [],
   "source": [
    "le = LabelEncoder()\n",
    "\n",
    "df['international plan'] = le.fit_transform(df['international plan'])\n",
    "df['voice mail plan'] = le.fit_transform(df['voice mail plan'])\n",
    "# df['area code'] = le.fit_transform(df['area code'])\n",
    "# df['state'] = le.fit_transform(df['state'])"
   ]
  },
  {
   "cell_type": "markdown",
   "metadata": {},
   "source": [
    "# Create Additional Columns to Better Explain the Data"
   ]
  },
  {
   "cell_type": "code",
   "execution_count": 4,
   "metadata": {},
   "outputs": [],
   "source": [
    "df['account months'] = np.ceil(df['account length']/30).astype(int)\n",
    "df['total minutes'] = df['total day minutes']+df['total eve minutes']+df['total night minutes']+df['total intl minutes']\n",
    "df['total calls'] = df['total day calls']+df['total eve calls']+df['total night calls']+df['total intl calls']\n",
    "df['total cost'] = df['total day charge']+df['total eve charge']+df['total night charge']+df['total intl charge']\n",
    "df['cost per day'] = df['total cost']/df['account length']"
   ]
  },
  {
   "cell_type": "markdown",
   "metadata": {},
   "source": [
    "# Separate Data into Testing/Training Sets and Fit to Random Forest"
   ]
  },
  {
   "cell_type": "code",
   "execution_count": 5,
   "metadata": {},
   "outputs": [
    {
     "data": {
      "text/plain": [
       "RandomForestClassifier(bootstrap=True, class_weight=None, criterion='gini',\n",
       "                       max_depth=None, max_features='auto', max_leaf_nodes=None,\n",
       "                       min_impurity_decrease=0.0, min_impurity_split=None,\n",
       "                       min_samples_leaf=1, min_samples_split=2,\n",
       "                       min_weight_fraction_leaf=0.0, n_estimators=100,\n",
       "                       n_jobs=None, oob_score=False, random_state=42, verbose=0,\n",
       "                       warm_start=False)"
      ]
     },
     "execution_count": 5,
     "metadata": {},
     "output_type": "execute_result"
    }
   ],
   "source": [
    "rfc = RandomForestClassifier(n_estimators=100,random_state=42)\n",
    "X = df.drop(columns = ['churn','phone number'])\n",
    "y = df['churn']\n",
    "X_train,X_test,y_train,y_test = train_test_split(X,y,random_state=42)\n",
    "X_test1, X_test_final,y_test1,y_test_final = train_test_split(X_test,y_test,random_state=42,train_size=.5)\n",
    "rfc.fit(X_train,y_train)"
   ]
  },
  {
   "cell_type": "markdown",
   "metadata": {},
   "source": [
    "# Check Training Data"
   ]
  },
  {
   "cell_type": "code",
   "execution_count": 9,
   "metadata": {},
   "outputs": [
    {
     "name": "stdout",
     "output_type": "stream",
     "text": [
      "[[2141    0]\n",
      " [   0  358]]\n",
      "              precision    recall  f1-score   support\n",
      "\n",
      "       False       1.00      1.00      1.00      2141\n",
      "        True       1.00      1.00      1.00       358\n",
      "\n",
      "    accuracy                           1.00      2499\n",
      "   macro avg       1.00      1.00      1.00      2499\n",
      "weighted avg       1.00      1.00      1.00      2499\n",
      "\n"
     ]
    }
   ],
   "source": [
    "print(confusion_matrix(y_train,rfc.predict(X_train)))\n",
    "print(classification_report(y_train,rfc.predict(X_train)))"
   ]
  },
  {
   "cell_type": "markdown",
   "metadata": {},
   "source": [
    "# Check on First Set of Test Data"
   ]
  },
  {
   "cell_type": "code",
   "execution_count": 6,
   "metadata": {},
   "outputs": [
    {
     "name": "stdout",
     "output_type": "stream",
     "text": [
      "[[341   0]\n",
      " [ 10  66]]\n",
      "              precision    recall  f1-score   support\n",
      "\n",
      "       False       0.97      1.00      0.99       341\n",
      "        True       1.00      0.87      0.93        76\n",
      "\n",
      "    accuracy                           0.98       417\n",
      "   macro avg       0.99      0.93      0.96       417\n",
      "weighted avg       0.98      0.98      0.98       417\n",
      "\n"
     ]
    }
   ],
   "source": [
    "print(confusion_matrix(y_test1,rfc.predict(X_test1)))\n",
    "print(classification_report(y_test1,rfc.predict(X_test1)))"
   ]
  },
  {
   "cell_type": "markdown",
   "metadata": {},
   "source": [
    "# Coefficients "
   ]
  },
  {
   "cell_type": "code",
   "execution_count": 7,
   "metadata": {},
   "outputs": [
    {
     "data": {
      "text/plain": [
       "[(0.16095446947871725, 'total cost'),\n",
       " (0.12105447646453169, 'customer service calls'),\n",
       " (0.0760297229093458, 'international plan'),\n",
       " (0.07570496505678491, 'total day charge'),\n",
       " (0.07496895280985413, 'total minutes'),\n",
       " (0.06811203974080061, 'total day minutes'),\n",
       " (0.034304847892416085, 'total intl charge'),\n",
       " (0.03379182621686666, 'number vmail messages'),\n",
       " (0.031838743765609696, 'total intl minutes'),\n",
       " (0.02994052630750491, 'total eve charge'),\n",
       " (0.029784848470596183, 'total eve minutes'),\n",
       " (0.02885703475017382, 'voice mail plan'),\n",
       " (0.02865920243493262, 'total intl calls'),\n",
       " (0.025034282523753854, 'total night charge'),\n",
       " (0.02252788247226434, 'total day calls'),\n",
       " (0.021725108465508416, 'total night minutes'),\n",
       " (0.02170544395070272, 'total calls'),\n",
       " (0.021084315681280826, 'cost per day'),\n",
       " (0.020637658568022747, 'account length'),\n",
       " (0.020637447610111007, 'total night calls'),\n",
       " (0.02012095106614988, 'total eve calls'),\n",
       " (0.01924520576530958, 'state'),\n",
       " (0.008165917731806775, 'account months'),\n",
       " (0.005114129866955514, 'area code')]"
      ]
     },
     "execution_count": 7,
     "metadata": {},
     "output_type": "execute_result"
    }
   ],
   "source": [
    "sorted(list(zip(rfc.feature_importances_,X_test1.columns,)),reverse=True)"
   ]
  },
  {
   "cell_type": "markdown",
   "metadata": {},
   "source": [
    "# Double Check on Second Set of Test Data"
   ]
  },
  {
   "cell_type": "code",
   "execution_count": 8,
   "metadata": {},
   "outputs": [
    {
     "name": "stdout",
     "output_type": "stream",
     "text": [
      "[[368   0]\n",
      " [  7  42]]\n",
      "              precision    recall  f1-score   support\n",
      "\n",
      "       False       0.98      1.00      0.99       368\n",
      "        True       1.00      0.86      0.92        49\n",
      "\n",
      "    accuracy                           0.98       417\n",
      "   macro avg       0.99      0.93      0.96       417\n",
      "weighted avg       0.98      0.98      0.98       417\n",
      "\n"
     ]
    }
   ],
   "source": [
    "print(confusion_matrix(y_test_final,rfc.predict(X_test_final)))\n",
    "print(classification_report(y_test_final,rfc.predict(X_test_final)))"
   ]
  },
  {
   "cell_type": "code",
   "execution_count": null,
   "metadata": {},
   "outputs": [],
   "source": []
  }
 ],
 "metadata": {
  "kernelspec": {
   "display_name": "learn-env",
   "language": "python",
   "name": "learn-env"
  },
  "language_info": {
   "codemirror_mode": {
    "name": "ipython",
    "version": 3
   },
   "file_extension": ".py",
   "mimetype": "text/x-python",
   "name": "python",
   "nbconvert_exporter": "python",
   "pygments_lexer": "ipython3",
   "version": "3.6.9"
  }
 },
 "nbformat": 4,
 "nbformat_minor": 4
}
