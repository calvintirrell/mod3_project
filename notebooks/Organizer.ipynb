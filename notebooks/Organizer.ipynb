{
    "cells": [
     {
      "cell_type": "code",
      "execution_count": 1,
      "metadata": {},
      "outputs": [
       {
        "name": "stderr",
        "output_type": "stream",
        "text": [
         "/opt/anaconda3/envs/learn-env/lib/python3.6/site-packages/sklearn/externals/six.py:31: DeprecationWarning: The module is deprecated in version 0.21 and will be removed in version 0.23 since we've dropped support for Python 2.7. Please rely on the official version of six (https://pypi.org/project/six/).\n",
         "  \"(https://pypi.org/project/six/).\", DeprecationWarning)\n"
        ]
       }
      ],
      "source": [
       "import numpy as np\n",
       "import pandas as pd\n",
       "import pandasql as psql\n",
       "\n",
       "from sklearn.model_selection import train_test_split\n",
       "from sklearn.preprocessing import LabelEncoder\n",
       "from sklearn.tree import DecisionTreeClassifier\n",
       "from sklearn.metrics import confusion_matrix, classification_report\n",
       "from sklearn.ensemble import RandomForestClassifier\n",
       "from sklearn.preprocessing import OneHotEncoder, StandardScaler\n",
       "\n",
       "import scipy.sparse\n",
       "\n",
       "from imblearn.over_sampling import SMOTE"
      ]
     },
     {
      "cell_type": "markdown",
      "metadata": {},
      "source": [
       "# Import DataFrame"
      ]
     },
     {
      "cell_type": "code",
      "execution_count": 2,
      "metadata": {},
      "outputs": [],
      "source": [
       "df = pd.read_csv(\"~/Downloads/bigml_59c28831336c6604c800002a.csv\")"
      ]
     },
     {
      "cell_type": "code",
      "execution_count": 3,
      "metadata": {},
      "outputs": [
       {
        "data": {
         "text/html": [
          "<div>\n",
          "<style scoped>\n",
          "    .dataframe tbody tr th:only-of-type {\n",
          "        vertical-align: middle;\n",
          "    }\n",
          "\n",
          "    .dataframe tbody tr th {\n",
          "        vertical-align: top;\n",
          "    }\n",
          "\n",
          "    .dataframe thead th {\n",
          "        text-align: right;\n",
          "    }\n",
          "</style>\n",
          "<table border=\"1\" class=\"dataframe\">\n",
          "  <thead>\n",
          "    <tr style=\"text-align: right;\">\n",
          "      <th></th>\n",
          "      <th>state</th>\n",
          "      <th>account length</th>\n",
          "      <th>area code</th>\n",
          "      <th>phone number</th>\n",
          "      <th>international plan</th>\n",
          "      <th>voice mail plan</th>\n",
          "      <th>number vmail messages</th>\n",
          "      <th>total day minutes</th>\n",
          "      <th>total day calls</th>\n",
          "      <th>total day charge</th>\n",
          "      <th>...</th>\n",
          "      <th>total eve calls</th>\n",
          "      <th>total eve charge</th>\n",
          "      <th>total night minutes</th>\n",
          "      <th>total night calls</th>\n",
          "      <th>total night charge</th>\n",
          "      <th>total intl minutes</th>\n",
          "      <th>total intl calls</th>\n",
          "      <th>total intl charge</th>\n",
          "      <th>customer service calls</th>\n",
          "      <th>churn</th>\n",
          "    </tr>\n",
          "  </thead>\n",
          "  <tbody>\n",
          "    <tr>\n",
          "      <td>0</td>\n",
          "      <td>KS</td>\n",
          "      <td>128</td>\n",
          "      <td>415</td>\n",
          "      <td>382-4657</td>\n",
          "      <td>no</td>\n",
          "      <td>yes</td>\n",
          "      <td>25</td>\n",
          "      <td>265.1</td>\n",
          "      <td>110</td>\n",
          "      <td>45.07</td>\n",
          "      <td>...</td>\n",
          "      <td>99</td>\n",
          "      <td>16.78</td>\n",
          "      <td>244.7</td>\n",
          "      <td>91</td>\n",
          "      <td>11.01</td>\n",
          "      <td>10.0</td>\n",
          "      <td>3</td>\n",
          "      <td>2.70</td>\n",
          "      <td>1</td>\n",
          "      <td>False</td>\n",
          "    </tr>\n",
          "    <tr>\n",
          "      <td>1</td>\n",
          "      <td>OH</td>\n",
          "      <td>107</td>\n",
          "      <td>415</td>\n",
          "      <td>371-7191</td>\n",
          "      <td>no</td>\n",
          "      <td>yes</td>\n",
          "      <td>26</td>\n",
          "      <td>161.6</td>\n",
          "      <td>123</td>\n",
          "      <td>27.47</td>\n",
          "      <td>...</td>\n",
          "      <td>103</td>\n",
          "      <td>16.62</td>\n",
          "      <td>254.4</td>\n",
          "      <td>103</td>\n",
          "      <td>11.45</td>\n",
          "      <td>13.7</td>\n",
          "      <td>3</td>\n",
          "      <td>3.70</td>\n",
          "      <td>1</td>\n",
          "      <td>False</td>\n",
          "    </tr>\n",
          "    <tr>\n",
          "      <td>2</td>\n",
          "      <td>NJ</td>\n",
          "      <td>137</td>\n",
          "      <td>415</td>\n",
          "      <td>358-1921</td>\n",
          "      <td>no</td>\n",
          "      <td>no</td>\n",
          "      <td>0</td>\n",
          "      <td>243.4</td>\n",
          "      <td>114</td>\n",
          "      <td>41.38</td>\n",
          "      <td>...</td>\n",
          "      <td>110</td>\n",
          "      <td>10.30</td>\n",
          "      <td>162.6</td>\n",
          "      <td>104</td>\n",
          "      <td>7.32</td>\n",
          "      <td>12.2</td>\n",
          "      <td>5</td>\n",
          "      <td>3.29</td>\n",
          "      <td>0</td>\n",
          "      <td>False</td>\n",
          "    </tr>\n",
          "    <tr>\n",
          "      <td>3</td>\n",
          "      <td>OH</td>\n",
          "      <td>84</td>\n",
          "      <td>408</td>\n",
          "      <td>375-9999</td>\n",
          "      <td>yes</td>\n",
          "      <td>no</td>\n",
          "      <td>0</td>\n",
          "      <td>299.4</td>\n",
          "      <td>71</td>\n",
          "      <td>50.90</td>\n",
          "      <td>...</td>\n",
          "      <td>88</td>\n",
          "      <td>5.26</td>\n",
          "      <td>196.9</td>\n",
          "      <td>89</td>\n",
          "      <td>8.86</td>\n",
          "      <td>6.6</td>\n",
          "      <td>7</td>\n",
          "      <td>1.78</td>\n",
          "      <td>2</td>\n",
          "      <td>False</td>\n",
          "    </tr>\n",
          "    <tr>\n",
          "      <td>4</td>\n",
          "      <td>OK</td>\n",
          "      <td>75</td>\n",
          "      <td>415</td>\n",
          "      <td>330-6626</td>\n",
          "      <td>yes</td>\n",
          "      <td>no</td>\n",
          "      <td>0</td>\n",
          "      <td>166.7</td>\n",
          "      <td>113</td>\n",
          "      <td>28.34</td>\n",
          "      <td>...</td>\n",
          "      <td>122</td>\n",
          "      <td>12.61</td>\n",
          "      <td>186.9</td>\n",
          "      <td>121</td>\n",
          "      <td>8.41</td>\n",
          "      <td>10.1</td>\n",
          "      <td>3</td>\n",
          "      <td>2.73</td>\n",
          "      <td>3</td>\n",
          "      <td>False</td>\n",
          "    </tr>\n",
          "  </tbody>\n",
          "</table>\n",
          "<p>5 rows × 21 columns</p>\n",
          "</div>"
         ],
         "text/plain": [
          "  state  account length  area code phone number international plan  \\\n",
          "0    KS             128        415     382-4657                 no   \n",
          "1    OH             107        415     371-7191                 no   \n",
          "2    NJ             137        415     358-1921                 no   \n",
          "3    OH              84        408     375-9999                yes   \n",
          "4    OK              75        415     330-6626                yes   \n",
          "\n",
          "  voice mail plan  number vmail messages  total day minutes  total day calls  \\\n",
          "0             yes                     25              265.1              110   \n",
          "1             yes                     26              161.6              123   \n",
          "2              no                      0              243.4              114   \n",
          "3              no                      0              299.4               71   \n",
          "4              no                      0              166.7              113   \n",
          "\n",
          "   total day charge  ...  total eve calls  total eve charge  \\\n",
          "0             45.07  ...               99             16.78   \n",
          "1             27.47  ...              103             16.62   \n",
          "2             41.38  ...              110             10.30   \n",
          "3             50.90  ...               88              5.26   \n",
          "4             28.34  ...              122             12.61   \n",
          "\n",
          "   total night minutes  total night calls  total night charge  \\\n",
          "0                244.7                 91               11.01   \n",
          "1                254.4                103               11.45   \n",
          "2                162.6                104                7.32   \n",
          "3                196.9                 89                8.86   \n",
          "4                186.9                121                8.41   \n",
          "\n",
          "   total intl minutes  total intl calls  total intl charge  \\\n",
          "0                10.0                 3               2.70   \n",
          "1                13.7                 3               3.70   \n",
          "2                12.2                 5               3.29   \n",
          "3                 6.6                 7               1.78   \n",
          "4                10.1                 3               2.73   \n",
          "\n",
          "   customer service calls  churn  \n",
          "0                       1  False  \n",
          "1                       1  False  \n",
          "2                       0  False  \n",
          "3                       2  False  \n",
          "4                       3  False  \n",
          "\n",
          "[5 rows x 21 columns]"
         ]
        },
        "execution_count": 3,
        "metadata": {},
        "output_type": "execute_result"
       }
      ],
      "source": [
       "df.head()"
      ]
     },
     {
      "cell_type": "markdown",
      "metadata": {},
      "source": [
       "# Label Encode Explanatory Data"
      ]
     },
     {
      "cell_type": "code",
      "execution_count": 4,
      "metadata": {},
      "outputs": [],
      "source": [
       "le = LabelEncoder()\n",
       "\n",
       "df['international plan'] = le.fit_transform(df['international plan'])\n",
       "df['voice mail plan'] = le.fit_transform(df['voice mail plan'])\n",
       "# df['area code'] = le.fit_transform(df['area code'])\n",
       "# df['state'] = le.fit_transform(df['state'])"
      ]
     },
     {
      "cell_type": "code",
      "execution_count": 5,
      "metadata": {},
      "outputs": [],
      "source": [
       "# ohe = OneHotEncoder()\n",
       "# state = ohe.fit_transform(df[['state']])\n",
       "# df = pd.concat((df,pd.DataFrame.sparse.from_spmatrix(state)),axis=1)"
      ]
     },
     {
      "cell_type": "code",
      "execution_count": null,
      "metadata": {},
      "outputs": [],
      "source": [
       "\n"
      ]
     },
     {
      "cell_type": "markdown",
      "metadata": {},
      "source": [
       "# Create Additional Columns to Better Explain the Data"
      ]
     },
     {
      "cell_type": "code",
      "execution_count": 6,
      "metadata": {},
      "outputs": [],
      "source": [
       "# df['account months'] = np.ceil(df['account length']/30).astype(int)\n",
       "df['total minutes'] = df['total day minutes']+df['total eve minutes']+df['total night minutes']+df['total intl minutes']\n",
       "df['total calls'] = df['total day calls']+df['total eve calls']+df['total night calls']+df['total intl calls']\n",
       "df['total cost'] = df['total day charge']+df['total eve charge']+df['total night charge']+df['total intl charge']\n",
       "df['cost per day'] = df['total cost']/df['account length']"
      ]
     },
     {
      "cell_type": "markdown",
      "metadata": {},
      "source": [
       "# Separate Data into Train/Test Sets and Fit to Random Forest"
      ]
     },
     {
      "cell_type": "code",
      "execution_count": 7,
      "metadata": {},
      "outputs": [
       {
        "data": {
         "text/plain": [
          "RandomForestClassifier(bootstrap=True, class_weight=None, criterion='gini',\n",
          "                       max_depth=None, max_features='auto', max_leaf_nodes=None,\n",
          "                       min_impurity_decrease=0.0, min_impurity_split=None,\n",
          "                       min_samples_leaf=1, min_samples_split=2,\n",
          "                       min_weight_fraction_leaf=0.0, n_estimators=1000,\n",
          "                       n_jobs=None, oob_score=False, random_state=42, verbose=0,\n",
          "                       warm_start=False)"
         ]
        },
        "execution_count": 7,
        "metadata": {},
        "output_type": "execute_result"
       }
      ],
      "source": [
       "rfc = RandomForestClassifier(n_estimators=1000,random_state=42)\n",
       "X = df.drop(columns = ['churn','phone number','state','area code'])\n",
       "y = df['churn']\n",
       "X_train,X_test,y_train,y_test = train_test_split(X,y,random_state=42)\n",
       "X_test1, X_test_final,y_test1,y_test_final = train_test_split(X_test,y_test,random_state=42,train_size=.5)\n",
       "sm = SMOTE(random_state=42, sampling_strategy=.9)\n",
       "# Xsmote, ysmote = sm.fit_sample(X_train, y_train)\n",
       "# rfc.fit(Xsmote,ysmote)\n",
       "rfc.fit(X_train,y_train)"
      ]
     },
     {
      "cell_type": "markdown",
      "metadata": {},
      "source": [
       "# Check Training Data"
      ]
     },
     {
      "cell_type": "code",
      "execution_count": 8,
      "metadata": {},
      "outputs": [
       {
        "name": "stdout",
        "output_type": "stream",
        "text": [
         "[[2141    0]\n",
         " [   0  358]]\n",
         "              precision    recall  f1-score   support\n",
         "\n",
         "       False       1.00      1.00      1.00      2141\n",
         "        True       1.00      1.00      1.00       358\n",
         "\n",
         "    accuracy                           1.00      2499\n",
         "   macro avg       1.00      1.00      1.00      2499\n",
         "weighted avg       1.00      1.00      1.00      2499\n",
         "\n"
        ]
       }
      ],
      "source": [
       "print(confusion_matrix(y_train,rfc.predict(X_train)))\n",
       "print(classification_report(y_train,rfc.predict(X_train)))"
      ]
     },
     {
      "cell_type": "markdown",
      "metadata": {},
      "source": [
       "# Check on First Set of Test Data"
      ]
     },
     {
      "cell_type": "code",
      "execution_count": 9,
      "metadata": {},
      "outputs": [
       {
        "name": "stdout",
        "output_type": "stream",
        "text": [
         "[[341   0]\n",
         " [  9  67]]\n",
         "              precision    recall  f1-score   support\n",
         "\n",
         "       False       0.97      1.00      0.99       341\n",
         "        True       1.00      0.88      0.94        76\n",
         "\n",
         "    accuracy                           0.98       417\n",
         "   macro avg       0.99      0.94      0.96       417\n",
         "weighted avg       0.98      0.98      0.98       417\n",
         "\n"
        ]
       }
      ],
      "source": [
       "print(confusion_matrix(y_test1,rfc.predict(X_test1)))\n",
       "print(classification_report(y_test1,rfc.predict(X_test1)))"
      ]
     },
     {
      "cell_type": "markdown",
      "metadata": {},
      "source": [
       "# Coefficients "
      ]
     },
     {
      "cell_type": "code",
      "execution_count": 10,
      "metadata": {},
      "outputs": [
       {
        "data": {
         "text/plain": [
          "[(0.1823029422615225, 'total cost'),\n",
          " (0.12979155975569523, 'customer service calls'),\n",
          " (0.0774492818803392, 'international plan'),\n",
          " (0.06928989729363125, 'total day minutes'),\n",
          " (0.06675452101209381, 'total day charge'),\n",
          " (0.06661601213112456, 'total minutes'),\n",
          " (0.03883189671118281, 'total intl calls'),\n",
          " (0.038433262932340846, 'number vmail messages'),\n",
          " (0.035254975172740295, 'voice mail plan'),\n",
          " (0.03379591353488788, 'total intl charge'),\n",
          " (0.032956530517242406, 'total intl minutes'),\n",
          " (0.029171655411529464, 'total eve minutes'),\n",
          " (0.02879533196262102, 'total eve charge'),\n",
          " (0.023165180624009567, 'total night charge'),\n",
          " (0.022540116271725537, 'cost per day'),\n",
          " (0.022178658697108583, 'total night minutes'),\n",
          " (0.021662157328198966, 'total day calls'),\n",
          " (0.02053262119178274, 'total night calls'),\n",
          " (0.02046728175600491, 'total calls'),\n",
          " (0.02005823474491011, 'account length'),\n",
          " (0.01995196880930837, 'total eve calls')]"
         ]
        },
        "execution_count": 10,
        "metadata": {},
        "output_type": "execute_result"
       }
      ],
      "source": [
       "sorted(list(zip(rfc.feature_importances_,X_test1.columns,)),reverse=True)"
      ]
     },
     {
      "cell_type": "markdown",
      "metadata": {},
      "source": [
       "# Double Check on Second Set of Test Data"
      ]
     },
     {
      "cell_type": "code",
      "execution_count": 11,
      "metadata": {},
      "outputs": [
       {
        "name": "stdout",
        "output_type": "stream",
        "text": [
         "[[368   0]\n",
         " [  8  41]]\n",
         "              precision    recall  f1-score   support\n",
         "\n",
         "       False       0.98      1.00      0.99       368\n",
         "        True       1.00      0.84      0.91        49\n",
         "\n",
         "    accuracy                           0.98       417\n",
         "   macro avg       0.99      0.92      0.95       417\n",
         "weighted avg       0.98      0.98      0.98       417\n",
         "\n"
        ]
       }
      ],
      "source": [
       "print(confusion_matrix(y_test_final,rfc.predict(X_test_final)))\n",
       "print(classification_report(y_test_final,rfc.predict(X_test_final)))"
      ]
     },
     {
      "cell_type": "code",
      "execution_count": null,
      "metadata": {},
      "outputs": [],
      "source": []
     },
     {
      "cell_type": "code",
      "execution_count": null,
      "metadata": {},
      "outputs": [],
      "source": []
     },
     {
      "cell_type": "code",
      "execution_count": 12,
      "metadata": {},
      "outputs": [
       {
        "data": {
         "text/html": [
          "<div>\n",
          "<style scoped>\n",
          "    .dataframe tbody tr th:only-of-type {\n",
          "        vertical-align: middle;\n",
          "    }\n",
          "\n",
          "    .dataframe tbody tr th {\n",
          "        vertical-align: top;\n",
          "    }\n",
          "\n",
          "    .dataframe thead th {\n",
          "        text-align: right;\n",
          "    }\n",
          "</style>\n",
          "<table border=\"1\" class=\"dataframe\">\n",
          "  <thead>\n",
          "    <tr style=\"text-align: right;\">\n",
          "      <th></th>\n",
          "      <th>state</th>\n",
          "      <th>account length</th>\n",
          "      <th>area code</th>\n",
          "      <th>phone number</th>\n",
          "      <th>international plan</th>\n",
          "      <th>voice mail plan</th>\n",
          "      <th>number vmail messages</th>\n",
          "      <th>total day minutes</th>\n",
          "      <th>total day calls</th>\n",
          "      <th>total day charge</th>\n",
          "      <th>...</th>\n",
          "      <th>total night charge</th>\n",
          "      <th>total intl minutes</th>\n",
          "      <th>total intl calls</th>\n",
          "      <th>total intl charge</th>\n",
          "      <th>customer service calls</th>\n",
          "      <th>churn</th>\n",
          "      <th>total minutes</th>\n",
          "      <th>total calls</th>\n",
          "      <th>total cost</th>\n",
          "      <th>cost per day</th>\n",
          "    </tr>\n",
          "  </thead>\n",
          "  <tbody>\n",
          "    <tr>\n",
          "      <td>0</td>\n",
          "      <td>KS</td>\n",
          "      <td>128</td>\n",
          "      <td>415</td>\n",
          "      <td>382-4657</td>\n",
          "      <td>0</td>\n",
          "      <td>1</td>\n",
          "      <td>25</td>\n",
          "      <td>265.1</td>\n",
          "      <td>110</td>\n",
          "      <td>45.07</td>\n",
          "      <td>...</td>\n",
          "      <td>11.01</td>\n",
          "      <td>10.0</td>\n",
          "      <td>3</td>\n",
          "      <td>2.70</td>\n",
          "      <td>1</td>\n",
          "      <td>False</td>\n",
          "      <td>717.2</td>\n",
          "      <td>303</td>\n",
          "      <td>75.56</td>\n",
          "      <td>0.590313</td>\n",
          "    </tr>\n",
          "    <tr>\n",
          "      <td>1</td>\n",
          "      <td>OH</td>\n",
          "      <td>107</td>\n",
          "      <td>415</td>\n",
          "      <td>371-7191</td>\n",
          "      <td>0</td>\n",
          "      <td>1</td>\n",
          "      <td>26</td>\n",
          "      <td>161.6</td>\n",
          "      <td>123</td>\n",
          "      <td>27.47</td>\n",
          "      <td>...</td>\n",
          "      <td>11.45</td>\n",
          "      <td>13.7</td>\n",
          "      <td>3</td>\n",
          "      <td>3.70</td>\n",
          "      <td>1</td>\n",
          "      <td>False</td>\n",
          "      <td>625.2</td>\n",
          "      <td>332</td>\n",
          "      <td>59.24</td>\n",
          "      <td>0.553645</td>\n",
          "    </tr>\n",
          "    <tr>\n",
          "      <td>2</td>\n",
          "      <td>NJ</td>\n",
          "      <td>137</td>\n",
          "      <td>415</td>\n",
          "      <td>358-1921</td>\n",
          "      <td>0</td>\n",
          "      <td>0</td>\n",
          "      <td>0</td>\n",
          "      <td>243.4</td>\n",
          "      <td>114</td>\n",
          "      <td>41.38</td>\n",
          "      <td>...</td>\n",
          "      <td>7.32</td>\n",
          "      <td>12.2</td>\n",
          "      <td>5</td>\n",
          "      <td>3.29</td>\n",
          "      <td>0</td>\n",
          "      <td>False</td>\n",
          "      <td>539.4</td>\n",
          "      <td>333</td>\n",
          "      <td>62.29</td>\n",
          "      <td>0.454672</td>\n",
          "    </tr>\n",
          "    <tr>\n",
          "      <td>3</td>\n",
          "      <td>OH</td>\n",
          "      <td>84</td>\n",
          "      <td>408</td>\n",
          "      <td>375-9999</td>\n",
          "      <td>1</td>\n",
          "      <td>0</td>\n",
          "      <td>0</td>\n",
          "      <td>299.4</td>\n",
          "      <td>71</td>\n",
          "      <td>50.90</td>\n",
          "      <td>...</td>\n",
          "      <td>8.86</td>\n",
          "      <td>6.6</td>\n",
          "      <td>7</td>\n",
          "      <td>1.78</td>\n",
          "      <td>2</td>\n",
          "      <td>False</td>\n",
          "      <td>564.8</td>\n",
          "      <td>255</td>\n",
          "      <td>66.80</td>\n",
          "      <td>0.795238</td>\n",
          "    </tr>\n",
          "    <tr>\n",
          "      <td>4</td>\n",
          "      <td>OK</td>\n",
          "      <td>75</td>\n",
          "      <td>415</td>\n",
          "      <td>330-6626</td>\n",
          "      <td>1</td>\n",
          "      <td>0</td>\n",
          "      <td>0</td>\n",
          "      <td>166.7</td>\n",
          "      <td>113</td>\n",
          "      <td>28.34</td>\n",
          "      <td>...</td>\n",
          "      <td>8.41</td>\n",
          "      <td>10.1</td>\n",
          "      <td>3</td>\n",
          "      <td>2.73</td>\n",
          "      <td>3</td>\n",
          "      <td>False</td>\n",
          "      <td>512.0</td>\n",
          "      <td>359</td>\n",
          "      <td>52.09</td>\n",
          "      <td>0.694533</td>\n",
          "    </tr>\n",
          "  </tbody>\n",
          "</table>\n",
          "<p>5 rows × 25 columns</p>\n",
          "</div>"
         ],
         "text/plain": [
          "  state  account length  area code phone number  international plan  \\\n",
          "0    KS             128        415     382-4657                   0   \n",
          "1    OH             107        415     371-7191                   0   \n",
          "2    NJ             137        415     358-1921                   0   \n",
          "3    OH              84        408     375-9999                   1   \n",
          "4    OK              75        415     330-6626                   1   \n",
          "\n",
          "   voice mail plan  number vmail messages  total day minutes  total day calls  \\\n",
          "0                1                     25              265.1              110   \n",
          "1                1                     26              161.6              123   \n",
          "2                0                      0              243.4              114   \n",
          "3                0                      0              299.4               71   \n",
          "4                0                      0              166.7              113   \n",
          "\n",
          "   total day charge  ...  total night charge  total intl minutes  \\\n",
          "0             45.07  ...               11.01                10.0   \n",
          "1             27.47  ...               11.45                13.7   \n",
          "2             41.38  ...                7.32                12.2   \n",
          "3             50.90  ...                8.86                 6.6   \n",
          "4             28.34  ...                8.41                10.1   \n",
          "\n",
          "   total intl calls  total intl charge  customer service calls  churn  \\\n",
          "0                 3               2.70                       1  False   \n",
          "1                 3               3.70                       1  False   \n",
          "2                 5               3.29                       0  False   \n",
          "3                 7               1.78                       2  False   \n",
          "4                 3               2.73                       3  False   \n",
          "\n",
          "   total minutes  total calls  total cost  cost per day  \n",
          "0          717.2          303       75.56      0.590313  \n",
          "1          625.2          332       59.24      0.553645  \n",
          "2          539.4          333       62.29      0.454672  \n",
          "3          564.8          255       66.80      0.795238  \n",
          "4          512.0          359       52.09      0.694533  \n",
          "\n",
          "[5 rows x 25 columns]"
         ]
        },
        "execution_count": 12,
        "metadata": {},
        "output_type": "execute_result"
       }
      ],
      "source": [
       "df.head()"
      ]
     },
     {
      "cell_type": "code",
      "execution_count": null,
      "metadata": {},
      "outputs": [],
      "source": []
     },
     {
      "cell_type": "code",
      "execution_count": null,
      "metadata": {},
      "outputs": [],
      "source": []
     }
    ],
    "metadata": {
     "kernelspec": {
      "display_name": "learn-env",
      "language": "python",
      "name": "learn-env"
     },
     "language_info": {
      "codemirror_mode": {
       "name": "ipython",
       "version": 3
      },
      "file_extension": ".py",
      "mimetype": "text/x-python",
      "name": "python",
      "nbconvert_exporter": "python",
      "pygments_lexer": "ipython3",
      "version": "3.6.9"
     }
    },
    "nbformat": 4,
    "nbformat_minor": 4
   }