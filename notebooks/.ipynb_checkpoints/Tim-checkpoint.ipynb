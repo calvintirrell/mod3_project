{
 "cells": [
  {
   "cell_type": "code",
   "execution_count": 76,
   "metadata": {},
   "outputs": [],
   "source": [
    "import numpy as np\n",
    "import pandas as pd\n",
    "import pandasql as psql\n",
    "\n",
    "from sklearn.model_selection import train_test_split\n",
    "from sklearn.preprocessing import LabelEncoder\n",
    "from sklearn.tree import DecisionTreeClassifier\n",
    "from sklearn.metrics import confusion_matrix, classification_report\n",
    "from sklearn.ensemble import RandomForestClassifier\n",
    "\n",
    "\n",
    "from imblearn.over_sampling import SMOTE"
   ]
  },
  {
   "cell_type": "code",
   "execution_count": 3,
   "metadata": {},
   "outputs": [],
   "source": [
    "df = pd.read_csv(\"~/Downloads/bigml_59c28831336c6604c800002a.csv\")"
   ]
  },
  {
   "cell_type": "code",
   "execution_count": 7,
   "metadata": {},
   "outputs": [],
   "source": [
    "le = LabelEncoder()\n",
    "df['state'] = le.fit_transform(df['state'])\n",
    "df['international plan'] = le.fit_transform(df['international plan'])\n",
    "df['voice mail plan'] = le.fit_transform(df['voice mail plan'])\n",
    "df['area code'] = le.fit_transform(df['area code'])"
   ]
  },
  {
   "cell_type": "code",
   "execution_count": 137,
   "metadata": {},
   "outputs": [
    {
     "data": {
      "text/html": [
       "<div>\n",
       "<style scoped>\n",
       "    .dataframe tbody tr th:only-of-type {\n",
       "        vertical-align: middle;\n",
       "    }\n",
       "\n",
       "    .dataframe tbody tr th {\n",
       "        vertical-align: top;\n",
       "    }\n",
       "\n",
       "    .dataframe thead th {\n",
       "        text-align: right;\n",
       "    }\n",
       "</style>\n",
       "<table border=\"1\" class=\"dataframe\">\n",
       "  <thead>\n",
       "    <tr style=\"text-align: right;\">\n",
       "      <th></th>\n",
       "      <th>state</th>\n",
       "      <th>account length</th>\n",
       "      <th>area code</th>\n",
       "      <th>phone number</th>\n",
       "      <th>international plan</th>\n",
       "      <th>voice mail plan</th>\n",
       "      <th>number vmail messages</th>\n",
       "      <th>total day minutes</th>\n",
       "      <th>total day calls</th>\n",
       "      <th>total day charge</th>\n",
       "      <th>total eve minutes</th>\n",
       "      <th>total eve calls</th>\n",
       "      <th>total eve charge</th>\n",
       "      <th>total night minutes</th>\n",
       "      <th>total night calls</th>\n",
       "      <th>total night charge</th>\n",
       "      <th>total intl minutes</th>\n",
       "      <th>total intl calls</th>\n",
       "      <th>total intl charge</th>\n",
       "      <th>customer service calls</th>\n",
       "    </tr>\n",
       "  </thead>\n",
       "  <tbody>\n",
       "    <tr>\n",
       "      <td>count</td>\n",
       "      <td>3333.000000</td>\n",
       "      <td>3333.000000</td>\n",
       "      <td>3333.000000</td>\n",
       "      <td>3.333000e+03</td>\n",
       "      <td>3333.000000</td>\n",
       "      <td>3333.000000</td>\n",
       "      <td>3333.000000</td>\n",
       "      <td>3333.000000</td>\n",
       "      <td>3333.000000</td>\n",
       "      <td>3333.000000</td>\n",
       "      <td>3333.000000</td>\n",
       "      <td>3333.000000</td>\n",
       "      <td>3333.000000</td>\n",
       "      <td>3333.000000</td>\n",
       "      <td>3333.000000</td>\n",
       "      <td>3333.000000</td>\n",
       "      <td>3333.000000</td>\n",
       "      <td>3333.000000</td>\n",
       "      <td>3333.000000</td>\n",
       "      <td>3333.000000</td>\n",
       "    </tr>\n",
       "    <tr>\n",
       "      <td>mean</td>\n",
       "      <td>26.059406</td>\n",
       "      <td>101.064806</td>\n",
       "      <td>437.182418</td>\n",
       "      <td>3.746291e+06</td>\n",
       "      <td>0.096910</td>\n",
       "      <td>0.276628</td>\n",
       "      <td>8.099010</td>\n",
       "      <td>179.775098</td>\n",
       "      <td>100.435644</td>\n",
       "      <td>30.562307</td>\n",
       "      <td>200.980348</td>\n",
       "      <td>100.114311</td>\n",
       "      <td>17.083540</td>\n",
       "      <td>200.872037</td>\n",
       "      <td>100.107711</td>\n",
       "      <td>9.039325</td>\n",
       "      <td>10.237294</td>\n",
       "      <td>4.479448</td>\n",
       "      <td>2.764581</td>\n",
       "      <td>1.562856</td>\n",
       "    </tr>\n",
       "    <tr>\n",
       "      <td>std</td>\n",
       "      <td>14.824911</td>\n",
       "      <td>39.822106</td>\n",
       "      <td>42.371290</td>\n",
       "      <td>2.746626e+05</td>\n",
       "      <td>0.295879</td>\n",
       "      <td>0.447398</td>\n",
       "      <td>13.688365</td>\n",
       "      <td>54.467389</td>\n",
       "      <td>20.069084</td>\n",
       "      <td>9.259435</td>\n",
       "      <td>50.713844</td>\n",
       "      <td>19.922625</td>\n",
       "      <td>4.310668</td>\n",
       "      <td>50.573847</td>\n",
       "      <td>19.568609</td>\n",
       "      <td>2.275873</td>\n",
       "      <td>2.791840</td>\n",
       "      <td>2.461214</td>\n",
       "      <td>0.753773</td>\n",
       "      <td>1.315491</td>\n",
       "    </tr>\n",
       "    <tr>\n",
       "      <td>min</td>\n",
       "      <td>0.000000</td>\n",
       "      <td>1.000000</td>\n",
       "      <td>408.000000</td>\n",
       "      <td>3.271058e+06</td>\n",
       "      <td>0.000000</td>\n",
       "      <td>0.000000</td>\n",
       "      <td>0.000000</td>\n",
       "      <td>0.000000</td>\n",
       "      <td>0.000000</td>\n",
       "      <td>0.000000</td>\n",
       "      <td>0.000000</td>\n",
       "      <td>0.000000</td>\n",
       "      <td>0.000000</td>\n",
       "      <td>23.200000</td>\n",
       "      <td>33.000000</td>\n",
       "      <td>1.040000</td>\n",
       "      <td>0.000000</td>\n",
       "      <td>0.000000</td>\n",
       "      <td>0.000000</td>\n",
       "      <td>0.000000</td>\n",
       "    </tr>\n",
       "    <tr>\n",
       "      <td>25%</td>\n",
       "      <td>14.000000</td>\n",
       "      <td>74.000000</td>\n",
       "      <td>408.000000</td>\n",
       "      <td>3.508680e+06</td>\n",
       "      <td>0.000000</td>\n",
       "      <td>0.000000</td>\n",
       "      <td>0.000000</td>\n",
       "      <td>143.700000</td>\n",
       "      <td>87.000000</td>\n",
       "      <td>24.430000</td>\n",
       "      <td>166.600000</td>\n",
       "      <td>87.000000</td>\n",
       "      <td>14.160000</td>\n",
       "      <td>167.000000</td>\n",
       "      <td>87.000000</td>\n",
       "      <td>7.520000</td>\n",
       "      <td>8.500000</td>\n",
       "      <td>3.000000</td>\n",
       "      <td>2.300000</td>\n",
       "      <td>1.000000</td>\n",
       "    </tr>\n",
       "    <tr>\n",
       "      <td>50%</td>\n",
       "      <td>26.000000</td>\n",
       "      <td>101.000000</td>\n",
       "      <td>415.000000</td>\n",
       "      <td>3.748187e+06</td>\n",
       "      <td>0.000000</td>\n",
       "      <td>0.000000</td>\n",
       "      <td>0.000000</td>\n",
       "      <td>179.400000</td>\n",
       "      <td>101.000000</td>\n",
       "      <td>30.500000</td>\n",
       "      <td>201.400000</td>\n",
       "      <td>100.000000</td>\n",
       "      <td>17.120000</td>\n",
       "      <td>201.200000</td>\n",
       "      <td>100.000000</td>\n",
       "      <td>9.050000</td>\n",
       "      <td>10.300000</td>\n",
       "      <td>4.000000</td>\n",
       "      <td>2.780000</td>\n",
       "      <td>1.000000</td>\n",
       "    </tr>\n",
       "    <tr>\n",
       "      <td>75%</td>\n",
       "      <td>39.000000</td>\n",
       "      <td>127.000000</td>\n",
       "      <td>510.000000</td>\n",
       "      <td>3.985970e+06</td>\n",
       "      <td>0.000000</td>\n",
       "      <td>1.000000</td>\n",
       "      <td>20.000000</td>\n",
       "      <td>216.400000</td>\n",
       "      <td>114.000000</td>\n",
       "      <td>36.790000</td>\n",
       "      <td>235.300000</td>\n",
       "      <td>114.000000</td>\n",
       "      <td>20.000000</td>\n",
       "      <td>235.300000</td>\n",
       "      <td>113.000000</td>\n",
       "      <td>10.590000</td>\n",
       "      <td>12.100000</td>\n",
       "      <td>6.000000</td>\n",
       "      <td>3.270000</td>\n",
       "      <td>2.000000</td>\n",
       "    </tr>\n",
       "    <tr>\n",
       "      <td>max</td>\n",
       "      <td>50.000000</td>\n",
       "      <td>243.000000</td>\n",
       "      <td>510.000000</td>\n",
       "      <td>4.229964e+06</td>\n",
       "      <td>1.000000</td>\n",
       "      <td>1.000000</td>\n",
       "      <td>51.000000</td>\n",
       "      <td>350.800000</td>\n",
       "      <td>165.000000</td>\n",
       "      <td>59.640000</td>\n",
       "      <td>363.700000</td>\n",
       "      <td>170.000000</td>\n",
       "      <td>30.910000</td>\n",
       "      <td>395.000000</td>\n",
       "      <td>175.000000</td>\n",
       "      <td>17.770000</td>\n",
       "      <td>20.000000</td>\n",
       "      <td>20.000000</td>\n",
       "      <td>5.400000</td>\n",
       "      <td>9.000000</td>\n",
       "    </tr>\n",
       "  </tbody>\n",
       "</table>\n",
       "</div>"
      ],
      "text/plain": [
       "             state  account length    area code  phone number  \\\n",
       "count  3333.000000     3333.000000  3333.000000  3.333000e+03   \n",
       "mean     26.059406      101.064806   437.182418  3.746291e+06   \n",
       "std      14.824911       39.822106    42.371290  2.746626e+05   \n",
       "min       0.000000        1.000000   408.000000  3.271058e+06   \n",
       "25%      14.000000       74.000000   408.000000  3.508680e+06   \n",
       "50%      26.000000      101.000000   415.000000  3.748187e+06   \n",
       "75%      39.000000      127.000000   510.000000  3.985970e+06   \n",
       "max      50.000000      243.000000   510.000000  4.229964e+06   \n",
       "\n",
       "       international plan  voice mail plan  number vmail messages  \\\n",
       "count         3333.000000      3333.000000            3333.000000   \n",
       "mean             0.096910         0.276628               8.099010   \n",
       "std              0.295879         0.447398              13.688365   \n",
       "min              0.000000         0.000000               0.000000   \n",
       "25%              0.000000         0.000000               0.000000   \n",
       "50%              0.000000         0.000000               0.000000   \n",
       "75%              0.000000         1.000000              20.000000   \n",
       "max              1.000000         1.000000              51.000000   \n",
       "\n",
       "       total day minutes  total day calls  total day charge  \\\n",
       "count        3333.000000      3333.000000       3333.000000   \n",
       "mean          179.775098       100.435644         30.562307   \n",
       "std            54.467389        20.069084          9.259435   \n",
       "min             0.000000         0.000000          0.000000   \n",
       "25%           143.700000        87.000000         24.430000   \n",
       "50%           179.400000       101.000000         30.500000   \n",
       "75%           216.400000       114.000000         36.790000   \n",
       "max           350.800000       165.000000         59.640000   \n",
       "\n",
       "       total eve minutes  total eve calls  total eve charge  \\\n",
       "count        3333.000000      3333.000000       3333.000000   \n",
       "mean          200.980348       100.114311         17.083540   \n",
       "std            50.713844        19.922625          4.310668   \n",
       "min             0.000000         0.000000          0.000000   \n",
       "25%           166.600000        87.000000         14.160000   \n",
       "50%           201.400000       100.000000         17.120000   \n",
       "75%           235.300000       114.000000         20.000000   \n",
       "max           363.700000       170.000000         30.910000   \n",
       "\n",
       "       total night minutes  total night calls  total night charge  \\\n",
       "count          3333.000000        3333.000000         3333.000000   \n",
       "mean            200.872037         100.107711            9.039325   \n",
       "std              50.573847          19.568609            2.275873   \n",
       "min              23.200000          33.000000            1.040000   \n",
       "25%             167.000000          87.000000            7.520000   \n",
       "50%             201.200000         100.000000            9.050000   \n",
       "75%             235.300000         113.000000           10.590000   \n",
       "max             395.000000         175.000000           17.770000   \n",
       "\n",
       "       total intl minutes  total intl calls  total intl charge  \\\n",
       "count         3333.000000       3333.000000        3333.000000   \n",
       "mean            10.237294          4.479448           2.764581   \n",
       "std              2.791840          2.461214           0.753773   \n",
       "min              0.000000          0.000000           0.000000   \n",
       "25%              8.500000          3.000000           2.300000   \n",
       "50%             10.300000          4.000000           2.780000   \n",
       "75%             12.100000          6.000000           3.270000   \n",
       "max             20.000000         20.000000           5.400000   \n",
       "\n",
       "       customer service calls  \n",
       "count             3333.000000  \n",
       "mean                 1.562856  \n",
       "std                  1.315491  \n",
       "min                  0.000000  \n",
       "25%                  1.000000  \n",
       "50%                  1.000000  \n",
       "75%                  2.000000  \n",
       "max                  9.000000  "
      ]
     },
     "execution_count": 137,
     "metadata": {},
     "output_type": "execute_result"
    }
   ],
   "source": [
    "df.describe()"
   ]
  },
  {
   "cell_type": "code",
   "execution_count": 56,
   "metadata": {},
   "outputs": [
    {
     "data": {
      "text/plain": [
       "state                      object\n",
       "account length              int64\n",
       "area code                   int64\n",
       "phone number                int64\n",
       "international plan         object\n",
       "voice mail plan            object\n",
       "number vmail messages       int64\n",
       "total day minutes         float64\n",
       "total day calls             int64\n",
       "total day charge          float64\n",
       "total eve minutes         float64\n",
       "total eve calls             int64\n",
       "total eve charge          float64\n",
       "total night minutes       float64\n",
       "total night calls           int64\n",
       "total night charge        float64\n",
       "total intl minutes        float64\n",
       "total intl calls            int64\n",
       "total intl charge         float64\n",
       "customer service calls      int64\n",
       "churn                        bool\n",
       "dtype: object"
      ]
     },
     "execution_count": 56,
     "metadata": {},
     "output_type": "execute_result"
    }
   ],
   "source": [
    "df.dtypes"
   ]
  },
  {
   "cell_type": "code",
   "execution_count": 168,
   "metadata": {},
   "outputs": [],
   "source": [
    "q1 = (\"\"\"\n",
    "SELECT *,\n",
    "CASE \n",
    "    WHEN \"total intl calls\" > 0 THEN 1\n",
    "    ELSE 0 \n",
    "END AS intlcalls,\n",
    "CASE \n",
    "    WHEN \"total eve calls\" > 0 THEN 1\n",
    "    ELSE 0 \n",
    "END AS evecalls,\n",
    "CASE \n",
    "    WHEN \"total night calls\" > 0 THEN 1\n",
    "    ELSE 0\n",
    "END AS nightcalls,\n",
    "CASE\n",
    "    WHEN \"total day calls\" > 0 THEN 1\n",
    "    ELSE 0\n",
    "END AS daycalls,\n",
    "CASE\n",
    "    WHEN \"customer service calls\" > 1 THEN 1 \n",
    "    ELSE 0\n",
    "END AS customerservice\n",
    "FROM df\n",
    "\"\"\")\n",
    "df1 = psql.sqldf(q1)\n",
    "df1 = df1.drop(columns = ['total intl calls','total eve calls','total night calls','total day calls','customer service calls'])"
   ]
  },
  {
   "cell_type": "code",
   "execution_count": 10,
   "metadata": {},
   "outputs": [],
   "source": [
    "q2 = \"\"\"\n",
    "SELECT \"state\", \"area code\",\n",
    "\"international plan\", \"voice mail plan\", \"number vmail messages\"/\"account length\",\n",
    "\"total day minutes\"/\"account length\", \"total day calls\"/\"account length\", \"total day charge\"/\"account length\",\n",
    "\"total eve minutes\"/\"account length\", \"total eve calls\"/\"account length\", \"total eve charge\"/\"account length\",\n",
    "\"total night minutes\"/\"account length\", \"total night calls\"/\"account length\", \"total night charge\",\n",
    "\"total intl minutes\"/\"account length\", \"total intl calls\"/\"account length\", \"total intl charge\"/\"account length\",\n",
    "\"customer service calls\", \"churn\"\n",
    "FROM df\n",
    "\"\"\"\n",
    "df2 = psql.sqldf(q2)"
   ]
  },
  {
   "cell_type": "code",
   "execution_count": null,
   "metadata": {},
   "outputs": [],
   "source": []
  },
  {
   "cell_type": "code",
   "execution_count": null,
   "metadata": {},
   "outputs": [],
   "source": [
    "# actually we dont really need the column phone number because it will cause over fitting and will not have a \n",
    "# correlation between our train and test data."
   ]
  },
  {
   "cell_type": "code",
   "execution_count": null,
   "metadata": {},
   "outputs": [],
   "source": []
  },
  {
   "cell_type": "code",
   "execution_count": 152,
   "metadata": {},
   "outputs": [],
   "source": [
    "X = df.drop(columns = ['churn','phone number'])\n",
    "y = df['churn']\n",
    "Xtrain,Xtest,ytrain,ytest = train_test_split(X,y,random_state=42)"
   ]
  },
  {
   "cell_type": "code",
   "execution_count": 147,
   "metadata": {},
   "outputs": [
    {
     "data": {
      "text/plain": [
       "DecisionTreeClassifier(class_weight=None, criterion='gini', max_depth=22,\n",
       "                       max_features=None, max_leaf_nodes=None,\n",
       "                       min_impurity_decrease=0.0, min_impurity_split=None,\n",
       "                       min_samples_leaf=1, min_samples_split=2,\n",
       "                       min_weight_fraction_leaf=0.0, presort=False,\n",
       "                       random_state=None, splitter='best')"
      ]
     },
     "execution_count": 147,
     "metadata": {},
     "output_type": "execute_result"
    }
   ],
   "source": [
    "dtc = DecisionTreeClassifier(max_depth=22)\n",
    "dtc.fit(Xtrain,ytrain)"
   ]
  },
  {
   "cell_type": "code",
   "execution_count": 148,
   "metadata": {},
   "outputs": [],
   "source": [
    "y_preds = dtc.predict(Xtrain)"
   ]
  },
  {
   "cell_type": "code",
   "execution_count": 149,
   "metadata": {},
   "outputs": [
    {
     "data": {
      "text/plain": [
       "array([[2141,    0],\n",
       "       [   0,  358]])"
      ]
     },
     "execution_count": 149,
     "metadata": {},
     "output_type": "execute_result"
    }
   ],
   "source": [
    "confusion_matrix(ytrain,y_preds)"
   ]
  },
  {
   "cell_type": "code",
   "execution_count": 150,
   "metadata": {},
   "outputs": [],
   "source": [
    "X = df.drop(columns = ['churn','phone number'])\n",
    "y = df['churn']\n",
    "Xtrain,Xtest,ytrain,ytest = train_test_split(X,y,random_state=42)"
   ]
  },
  {
   "cell_type": "code",
   "execution_count": 147,
   "metadata": {},
   "outputs": [],
   "source": [
    "rfc = RandomForestClassifier(n_estimators=100,random_state=42)"
   ]
  },
  {
   "cell_type": "code",
   "execution_count": 151,
   "metadata": {},
   "outputs": [
    {
     "data": {
      "text/plain": [
       "RandomForestClassifier(bootstrap=True, class_weight=None, criterion='gini',\n",
       "                       max_depth=None, max_features='auto', max_leaf_nodes=None,\n",
       "                       min_impurity_decrease=0.0, min_impurity_split=None,\n",
       "                       min_samples_leaf=1, min_samples_split=2,\n",
       "                       min_weight_fraction_leaf=0.0, n_estimators=100,\n",
       "                       n_jobs=None, oob_score=False, random_state=42, verbose=0,\n",
       "                       warm_start=False)"
      ]
     },
     "execution_count": 151,
     "metadata": {},
     "output_type": "execute_result"
    }
   ],
   "source": [
    "rfc.fit(Xtrain,ytrain)"
   ]
  },
  {
   "cell_type": "code",
   "execution_count": 153,
   "metadata": {},
   "outputs": [
    {
     "data": {
      "text/plain": [
       "array([[2141,    0],\n",
       "       [   0,  358]])"
      ]
     },
     "execution_count": 153,
     "metadata": {},
     "output_type": "execute_result"
    }
   ],
   "source": [
    "confusion_matrix(ytrain,rfc.predict(Xtrain))"
   ]
  },
  {
   "cell_type": "code",
   "execution_count": 154,
   "metadata": {},
   "outputs": [
    {
     "data": {
      "text/plain": [
       "array([0.02472057, 0.02867274, 0.00857789, 0.08677414, 0.02023758,\n",
       "       0.02702115, 0.13428955, 0.03074894, 0.13058729, 0.06298392,\n",
       "       0.02874081, 0.06677738, 0.03676844, 0.03198688, 0.03508086,\n",
       "       0.04161329, 0.0448703 , 0.03693667, 0.1226116 ])"
      ]
     },
     "execution_count": 154,
     "metadata": {},
     "output_type": "execute_result"
    }
   ],
   "source": [
    "rfc.feature_importances_"
   ]
  },
  {
   "cell_type": "code",
   "execution_count": 155,
   "metadata": {},
   "outputs": [
    {
     "name": "stdout",
     "output_type": "stream",
     "text": [
      "              precision    recall  f1-score   support\n",
      "\n",
      "       False       0.95      1.00      0.97       709\n",
      "        True       0.97      0.68      0.80       125\n",
      "\n",
      "    accuracy                           0.95       834\n",
      "   macro avg       0.96      0.84      0.88       834\n",
      "weighted avg       0.95      0.95      0.94       834\n",
      "\n"
     ]
    }
   ],
   "source": [
    "print(classification_report(ytest,rfc.predict(Xtest)))"
   ]
  },
  {
   "cell_type": "code",
   "execution_count": 156,
   "metadata": {},
   "outputs": [
    {
     "data": {
      "text/plain": [
       "array([[706,   3],\n",
       "       [ 40,  85]])"
      ]
     },
     "execution_count": 156,
     "metadata": {},
     "output_type": "execute_result"
    }
   ],
   "source": [
    "rfc.fit(Xtrain,ytrain)\n",
    "confusion_matrix(ytest,rfc.predict(Xtest))"
   ]
  },
  {
   "cell_type": "code",
   "execution_count": 157,
   "metadata": {},
   "outputs": [
    {
     "data": {
      "text/plain": [
       "array([[685,  24],\n",
       "       [ 26,  99]])"
      ]
     },
     "execution_count": 157,
     "metadata": {},
     "output_type": "execute_result"
    }
   ],
   "source": [
    "sm = SMOTE(random_state=42, sampling_strategy=1.0)\n",
    "Xsmote, ysmote = sm.fit_sample(Xtrain, ytrain)\n",
    "rfc.fit(Xsmote,ysmote)\n",
    "confusion_matrix(ytest,rfc.predict(Xtest))"
   ]
  },
  {
   "cell_type": "code",
   "execution_count": 158,
   "metadata": {},
   "outputs": [
    {
     "name": "stdout",
     "output_type": "stream",
     "text": [
      "              precision    recall  f1-score   support\n",
      "\n",
      "       False       0.96      0.97      0.96       709\n",
      "        True       0.80      0.79      0.80       125\n",
      "\n",
      "    accuracy                           0.94       834\n",
      "   macro avg       0.88      0.88      0.88       834\n",
      "weighted avg       0.94      0.94      0.94       834\n",
      "\n"
     ]
    }
   ],
   "source": [
    "print(classification_report(ytest,rfc.predict(Xtest)))"
   ]
  },
  {
   "cell_type": "code",
   "execution_count": 121,
   "metadata": {},
   "outputs": [
    {
     "ename": "NameError",
     "evalue": "name 'Xtest1' is not defined",
     "output_type": "error",
     "traceback": [
      "\u001b[0;31m---------------------------------------------------------------------------\u001b[0m",
      "\u001b[0;31mNameError\u001b[0m                                 Traceback (most recent call last)",
      "\u001b[0;32m<ipython-input-121-354fd138ca22>\u001b[0m in \u001b[0;36m<module>\u001b[0;34m\u001b[0m\n\u001b[0;32m----> 1\u001b[0;31m \u001b[0my_final\u001b[0m \u001b[0;34m=\u001b[0m \u001b[0mrfc\u001b[0m\u001b[0;34m.\u001b[0m\u001b[0mpredict\u001b[0m\u001b[0;34m(\u001b[0m\u001b[0mXtest1\u001b[0m\u001b[0;34m)\u001b[0m\u001b[0;34m\u001b[0m\u001b[0;34m\u001b[0m\u001b[0m\n\u001b[0m\u001b[1;32m      2\u001b[0m \u001b[0mconfusion_matrix\u001b[0m\u001b[0;34m(\u001b[0m\u001b[0mytest1\u001b[0m\u001b[0;34m,\u001b[0m\u001b[0my_final\u001b[0m\u001b[0;34m)\u001b[0m\u001b[0;34m\u001b[0m\u001b[0;34m\u001b[0m\u001b[0m\n",
      "\u001b[0;31mNameError\u001b[0m: name 'Xtest1' is not defined"
     ]
    }
   ],
   "source": [
    "y_final = rfc.predict(Xtest1)\n",
    "confusion_matrix(ytest1,y_final)"
   ]
  },
  {
   "cell_type": "code",
   "execution_count": 138,
   "metadata": {},
   "outputs": [],
   "source": [
    "X2 = df2.drop(columns = ['churn'])\n",
    "y2 = df2['churn']\n",
    "Xtrain2,Xtest2,ytrain2,ytest2 = train_test_split(X2,y2,random_state=42)"
   ]
  },
  {
   "cell_type": "code",
   "execution_count": 139,
   "metadata": {},
   "outputs": [
    {
     "data": {
      "text/plain": [
       "array([[2141,    0],\n",
       "       [   0,  358]])"
      ]
     },
     "execution_count": 139,
     "metadata": {},
     "output_type": "execute_result"
    }
   ],
   "source": [
    "rfc.fit(Xtrain2,ytrain2)\n",
    "y_preds2 = rfc.predict(Xtrain2)\n",
    "confusion_matrix(ytrain2,y_preds2)"
   ]
  },
  {
   "cell_type": "code",
   "execution_count": 140,
   "metadata": {},
   "outputs": [
    {
     "name": "stdout",
     "output_type": "stream",
     "text": [
      "              precision    recall  f1-score   support\n",
      "\n",
      "           0       0.89      0.98      0.93       709\n",
      "           1       0.75      0.31      0.44       125\n",
      "\n",
      "    accuracy                           0.88       834\n",
      "   macro avg       0.82      0.65      0.69       834\n",
      "weighted avg       0.87      0.88      0.86       834\n",
      "\n"
     ]
    }
   ],
   "source": [
    "print(classification_report(ytest2,rfc.predict(Xtest2)))"
   ]
  },
  {
   "cell_type": "code",
   "execution_count": 141,
   "metadata": {},
   "outputs": [
    {
     "data": {
      "text/plain": [
       "array([[696,  13],\n",
       "       [ 86,  39]])"
      ]
     },
     "execution_count": 141,
     "metadata": {},
     "output_type": "execute_result"
    }
   ],
   "source": [
    "confusion_matrix(ytest2,rfc.predict(Xtest2))"
   ]
  },
  {
   "cell_type": "code",
   "execution_count": 142,
   "metadata": {},
   "outputs": [],
   "source": [
    "sm = SMOTE(random_state=42, sampling_strategy=1.0)\n",
    "Xsmote1, ysmote1 = sm.fit_sample(Xtrain2, ytrain2)"
   ]
  },
  {
   "cell_type": "code",
   "execution_count": 143,
   "metadata": {},
   "outputs": [
    {
     "data": {
      "text/plain": [
       "array([[663,  46],\n",
       "       [ 67,  58]])"
      ]
     },
     "execution_count": 143,
     "metadata": {},
     "output_type": "execute_result"
    }
   ],
   "source": [
    "rfc.fit(Xsmote1,ysmote1)\n",
    "confusion_matrix(ytest2,rfc.predict(Xtest2))"
   ]
  },
  {
   "cell_type": "code",
   "execution_count": 144,
   "metadata": {},
   "outputs": [
    {
     "name": "stdout",
     "output_type": "stream",
     "text": [
      "              precision    recall  f1-score   support\n",
      "\n",
      "           0       0.91      0.94      0.92       709\n",
      "           1       0.56      0.46      0.51       125\n",
      "\n",
      "    accuracy                           0.86       834\n",
      "   macro avg       0.73      0.70      0.71       834\n",
      "weighted avg       0.86      0.86      0.86       834\n",
      "\n"
     ]
    }
   ],
   "source": [
    "print(classification_report(ytest2,rfc.predict(Xtest2)))"
   ]
  },
  {
   "cell_type": "code",
   "execution_count": 360,
   "metadata": {},
   "outputs": [],
   "source": [
    "q3 = (\"\"\"\n",
    "SELECT *,\n",
    "CASE \n",
    "    WHEN \"account length\" < 30 THEN 0\n",
    "    WHEN \"account length\" BETWEEN 31 and 60 THEN 1\n",
    "    WHEN \"account length\" BETWEEN 61 and 90 THEN 2\n",
    "    ELSE 3\n",
    "     \n",
    "END AS gtr_avg\n",
    "FROM df\n",
    "\"\"\")\n",
    "df3 = psql.sqldf(q3)\n",
    "df3 = df3.drop(columns = ['phone number','account length'])"
   ]
  },
  {
   "cell_type": "code",
   "execution_count": 361,
   "metadata": {},
   "outputs": [
    {
     "data": {
      "text/plain": [
       "RandomForestClassifier(bootstrap=True, class_weight=None, criterion='gini',\n",
       "                       max_depth=None, max_features='auto', max_leaf_nodes=None,\n",
       "                       min_impurity_decrease=0.0, min_impurity_split=None,\n",
       "                       min_samples_leaf=1, min_samples_split=2,\n",
       "                       min_weight_fraction_leaf=0.0, n_estimators=100,\n",
       "                       n_jobs=None, oob_score=False, random_state=42, verbose=0,\n",
       "                       warm_start=False)"
      ]
     },
     "execution_count": 361,
     "metadata": {},
     "output_type": "execute_result"
    }
   ],
   "source": [
    "X = df3.drop(columns = ['churn'])\n",
    "y = df3['churn']\n",
    "Xtrain,Xtest,ytrain,ytest = train_test_split(X,y,random_state=42)\n",
    "rfc.fit(Xtrain,ytrain)"
   ]
  },
  {
   "cell_type": "code",
   "execution_count": 362,
   "metadata": {},
   "outputs": [
    {
     "data": {
      "text/plain": [
       "array([[706,   3],\n",
       "       [ 38,  87]])"
      ]
     },
     "execution_count": 362,
     "metadata": {},
     "output_type": "execute_result"
    }
   ],
   "source": [
    "confusion_matrix(ytest,rfc.predict(Xtest))"
   ]
  },
  {
   "cell_type": "code",
   "execution_count": 363,
   "metadata": {},
   "outputs": [
    {
     "name": "stdout",
     "output_type": "stream",
     "text": [
      "              precision    recall  f1-score   support\n",
      "\n",
      "           0       0.95      1.00      0.97       709\n",
      "           1       0.97      0.70      0.81       125\n",
      "\n",
      "    accuracy                           0.95       834\n",
      "   macro avg       0.96      0.85      0.89       834\n",
      "weighted avg       0.95      0.95      0.95       834\n",
      "\n"
     ]
    }
   ],
   "source": [
    "print(classification_report(ytest,rfc.predict(Xtest)))"
   ]
  },
  {
   "cell_type": "code",
   "execution_count": 364,
   "metadata": {},
   "outputs": [
    {
     "data": {
      "text/plain": [
       "array([[690,  19],\n",
       "       [ 28,  97]])"
      ]
     },
     "execution_count": 364,
     "metadata": {},
     "output_type": "execute_result"
    }
   ],
   "source": [
    "sm = SMOTE(random_state=42, sampling_strategy=1.0)\n",
    "Xsmote, ysmote = sm.fit_sample(Xtrain, ytrain)\n",
    "rfc.fit(Xsmote,ysmote)\n",
    "confusion_matrix(ytest,rfc.predict(Xtest))"
   ]
  },
  {
   "cell_type": "code",
   "execution_count": 365,
   "metadata": {},
   "outputs": [
    {
     "name": "stdout",
     "output_type": "stream",
     "text": [
      "              precision    recall  f1-score   support\n",
      "\n",
      "           0       0.96      0.97      0.97       709\n",
      "           1       0.84      0.78      0.80       125\n",
      "\n",
      "    accuracy                           0.94       834\n",
      "   macro avg       0.90      0.87      0.89       834\n",
      "weighted avg       0.94      0.94      0.94       834\n",
      "\n"
     ]
    }
   ],
   "source": [
    "print(classification_report(ytest,rfc.predict(Xtest)))"
   ]
  },
  {
   "cell_type": "code",
   "execution_count": 366,
   "metadata": {},
   "outputs": [
    {
     "data": {
      "text/plain": [
       "array([0.02328443, 0.04208264, 0.16972135, 0.04206134, 0.02696406,\n",
       "       0.10449696, 0.02210705, 0.10614937, 0.04921203, 0.0196493 ,\n",
       "       0.04682836, 0.02885406, 0.01952832, 0.02743997, 0.02318492,\n",
       "       0.04624786, 0.02321977, 0.14717288, 0.03179531])"
      ]
     },
     "execution_count": 366,
     "metadata": {},
     "output_type": "execute_result"
    }
   ],
   "source": [
    "rfc.feature_importances_"
   ]
  },
  {
   "cell_type": "code",
   "execution_count": 367,
   "metadata": {},
   "outputs": [
    {
     "data": {
      "text/plain": [
       "[('state', 0.023284432222321565),\n",
       " ('area code', 0.04208264126403287),\n",
       " ('international plan', 0.16972135272564845),\n",
       " ('voice mail plan', 0.042061341935420354),\n",
       " ('number vmail messages', 0.02696405785282918),\n",
       " ('total day minutes', 0.10449695952088722),\n",
       " ('total day calls', 0.02210704713855515),\n",
       " ('total day charge', 0.10614937198521257),\n",
       " ('total eve minutes', 0.04921203309663838),\n",
       " ('total eve calls', 0.01964929880201996),\n",
       " ('total eve charge', 0.04682836319108326),\n",
       " ('total night minutes', 0.0288540573285639),\n",
       " ('total night calls', 0.01952832420364985),\n",
       " ('total night charge', 0.027439968949002174),\n",
       " ('total intl minutes', 0.02318492434968323),\n",
       " ('total intl calls', 0.04624785898260678),\n",
       " ('total intl charge', 0.023219773234832024),\n",
       " ('customer service calls', 0.147172879483885),\n",
       " ('gtr_avg', 0.031795313733128064)]"
      ]
     },
     "execution_count": 367,
     "metadata": {},
     "output_type": "execute_result"
    }
   ],
   "source": [
    "list(zip(Xtest.columns,rfc.feature_importances_))"
   ]
  },
  {
   "cell_type": "code",
   "execution_count": 368,
   "metadata": {},
   "outputs": [
    {
     "data": {
      "text/html": [
       "<div>\n",
       "<style scoped>\n",
       "    .dataframe tbody tr th:only-of-type {\n",
       "        vertical-align: middle;\n",
       "    }\n",
       "\n",
       "    .dataframe tbody tr th {\n",
       "        vertical-align: top;\n",
       "    }\n",
       "\n",
       "    .dataframe thead th {\n",
       "        text-align: right;\n",
       "    }\n",
       "</style>\n",
       "<table border=\"1\" class=\"dataframe\">\n",
       "  <thead>\n",
       "    <tr style=\"text-align: right;\">\n",
       "      <th></th>\n",
       "      <th>state</th>\n",
       "      <th>area code</th>\n",
       "      <th>international plan</th>\n",
       "      <th>voice mail plan</th>\n",
       "      <th>number vmail messages</th>\n",
       "      <th>total day minutes</th>\n",
       "      <th>total day calls</th>\n",
       "      <th>total day charge</th>\n",
       "      <th>total eve minutes</th>\n",
       "      <th>total eve calls</th>\n",
       "      <th>total eve charge</th>\n",
       "      <th>total night minutes</th>\n",
       "      <th>total night calls</th>\n",
       "      <th>total night charge</th>\n",
       "      <th>total intl minutes</th>\n",
       "      <th>total intl calls</th>\n",
       "      <th>total intl charge</th>\n",
       "      <th>customer service calls</th>\n",
       "      <th>gtr_avg</th>\n",
       "    </tr>\n",
       "  </thead>\n",
       "  <tbody>\n",
       "    <tr>\n",
       "      <td>count</td>\n",
       "      <td>834.000000</td>\n",
       "      <td>834.000000</td>\n",
       "      <td>834.000000</td>\n",
       "      <td>834.000000</td>\n",
       "      <td>834.000000</td>\n",
       "      <td>834.000000</td>\n",
       "      <td>834.000000</td>\n",
       "      <td>834.000000</td>\n",
       "      <td>834.000000</td>\n",
       "      <td>834.000000</td>\n",
       "      <td>834.000000</td>\n",
       "      <td>834.000000</td>\n",
       "      <td>834.000000</td>\n",
       "      <td>834.000000</td>\n",
       "      <td>834.000000</td>\n",
       "      <td>834.000000</td>\n",
       "      <td>834.000000</td>\n",
       "      <td>834.000000</td>\n",
       "      <td>834.000000</td>\n",
       "    </tr>\n",
       "    <tr>\n",
       "      <td>mean</td>\n",
       "      <td>25.785372</td>\n",
       "      <td>1.032374</td>\n",
       "      <td>0.097122</td>\n",
       "      <td>0.290168</td>\n",
       "      <td>8.438849</td>\n",
       "      <td>179.083573</td>\n",
       "      <td>100.425659</td>\n",
       "      <td>30.444880</td>\n",
       "      <td>201.305396</td>\n",
       "      <td>100.621103</td>\n",
       "      <td>17.111103</td>\n",
       "      <td>201.624101</td>\n",
       "      <td>100.719424</td>\n",
       "      <td>9.073297</td>\n",
       "      <td>10.176259</td>\n",
       "      <td>4.576739</td>\n",
       "      <td>2.748094</td>\n",
       "      <td>1.545564</td>\n",
       "      <td>2.432854</td>\n",
       "    </tr>\n",
       "    <tr>\n",
       "      <td>std</td>\n",
       "      <td>14.887113</td>\n",
       "      <td>0.715231</td>\n",
       "      <td>0.296302</td>\n",
       "      <td>0.454112</td>\n",
       "      <td>13.774700</td>\n",
       "      <td>55.705695</td>\n",
       "      <td>20.398959</td>\n",
       "      <td>9.469929</td>\n",
       "      <td>50.997535</td>\n",
       "      <td>19.465495</td>\n",
       "      <td>4.334750</td>\n",
       "      <td>49.759134</td>\n",
       "      <td>19.693094</td>\n",
       "      <td>2.239232</td>\n",
       "      <td>2.775474</td>\n",
       "      <td>2.547411</td>\n",
       "      <td>0.749223</td>\n",
       "      <td>1.274352</td>\n",
       "      <td>0.837836</td>\n",
       "    </tr>\n",
       "    <tr>\n",
       "      <td>min</td>\n",
       "      <td>0.000000</td>\n",
       "      <td>0.000000</td>\n",
       "      <td>0.000000</td>\n",
       "      <td>0.000000</td>\n",
       "      <td>0.000000</td>\n",
       "      <td>0.000000</td>\n",
       "      <td>0.000000</td>\n",
       "      <td>0.000000</td>\n",
       "      <td>31.200000</td>\n",
       "      <td>48.000000</td>\n",
       "      <td>2.650000</td>\n",
       "      <td>43.700000</td>\n",
       "      <td>36.000000</td>\n",
       "      <td>1.970000</td>\n",
       "      <td>0.000000</td>\n",
       "      <td>0.000000</td>\n",
       "      <td>0.000000</td>\n",
       "      <td>0.000000</td>\n",
       "      <td>0.000000</td>\n",
       "    </tr>\n",
       "    <tr>\n",
       "      <td>25%</td>\n",
       "      <td>13.250000</td>\n",
       "      <td>1.000000</td>\n",
       "      <td>0.000000</td>\n",
       "      <td>0.000000</td>\n",
       "      <td>0.000000</td>\n",
       "      <td>143.250000</td>\n",
       "      <td>86.000000</td>\n",
       "      <td>24.350000</td>\n",
       "      <td>167.300000</td>\n",
       "      <td>87.000000</td>\n",
       "      <td>14.220000</td>\n",
       "      <td>167.875000</td>\n",
       "      <td>88.000000</td>\n",
       "      <td>7.557500</td>\n",
       "      <td>8.400000</td>\n",
       "      <td>3.000000</td>\n",
       "      <td>2.270000</td>\n",
       "      <td>1.000000</td>\n",
       "      <td>2.000000</td>\n",
       "    </tr>\n",
       "    <tr>\n",
       "      <td>50%</td>\n",
       "      <td>26.500000</td>\n",
       "      <td>1.000000</td>\n",
       "      <td>0.000000</td>\n",
       "      <td>0.000000</td>\n",
       "      <td>0.000000</td>\n",
       "      <td>180.450000</td>\n",
       "      <td>101.000000</td>\n",
       "      <td>30.680000</td>\n",
       "      <td>202.600000</td>\n",
       "      <td>101.000000</td>\n",
       "      <td>17.220000</td>\n",
       "      <td>201.750000</td>\n",
       "      <td>101.000000</td>\n",
       "      <td>9.080000</td>\n",
       "      <td>10.200000</td>\n",
       "      <td>4.000000</td>\n",
       "      <td>2.750000</td>\n",
       "      <td>1.000000</td>\n",
       "      <td>3.000000</td>\n",
       "    </tr>\n",
       "    <tr>\n",
       "      <td>75%</td>\n",
       "      <td>38.000000</td>\n",
       "      <td>2.000000</td>\n",
       "      <td>0.000000</td>\n",
       "      <td>1.000000</td>\n",
       "      <td>21.000000</td>\n",
       "      <td>216.525000</td>\n",
       "      <td>114.750000</td>\n",
       "      <td>36.807500</td>\n",
       "      <td>236.925000</td>\n",
       "      <td>114.000000</td>\n",
       "      <td>20.142500</td>\n",
       "      <td>234.900000</td>\n",
       "      <td>114.000000</td>\n",
       "      <td>10.570000</td>\n",
       "      <td>12.175000</td>\n",
       "      <td>6.000000</td>\n",
       "      <td>3.285000</td>\n",
       "      <td>2.000000</td>\n",
       "      <td>3.000000</td>\n",
       "    </tr>\n",
       "    <tr>\n",
       "      <td>max</td>\n",
       "      <td>50.000000</td>\n",
       "      <td>2.000000</td>\n",
       "      <td>1.000000</td>\n",
       "      <td>1.000000</td>\n",
       "      <td>46.000000</td>\n",
       "      <td>335.500000</td>\n",
       "      <td>163.000000</td>\n",
       "      <td>57.040000</td>\n",
       "      <td>341.300000</td>\n",
       "      <td>164.000000</td>\n",
       "      <td>29.010000</td>\n",
       "      <td>367.700000</td>\n",
       "      <td>166.000000</td>\n",
       "      <td>16.550000</td>\n",
       "      <td>18.900000</td>\n",
       "      <td>20.000000</td>\n",
       "      <td>5.100000</td>\n",
       "      <td>7.000000</td>\n",
       "      <td>3.000000</td>\n",
       "    </tr>\n",
       "  </tbody>\n",
       "</table>\n",
       "</div>"
      ],
      "text/plain": [
       "            state   area code  international plan  voice mail plan  \\\n",
       "count  834.000000  834.000000          834.000000       834.000000   \n",
       "mean    25.785372    1.032374            0.097122         0.290168   \n",
       "std     14.887113    0.715231            0.296302         0.454112   \n",
       "min      0.000000    0.000000            0.000000         0.000000   \n",
       "25%     13.250000    1.000000            0.000000         0.000000   \n",
       "50%     26.500000    1.000000            0.000000         0.000000   \n",
       "75%     38.000000    2.000000            0.000000         1.000000   \n",
       "max     50.000000    2.000000            1.000000         1.000000   \n",
       "\n",
       "       number vmail messages  total day minutes  total day calls  \\\n",
       "count             834.000000         834.000000       834.000000   \n",
       "mean                8.438849         179.083573       100.425659   \n",
       "std                13.774700          55.705695        20.398959   \n",
       "min                 0.000000           0.000000         0.000000   \n",
       "25%                 0.000000         143.250000        86.000000   \n",
       "50%                 0.000000         180.450000       101.000000   \n",
       "75%                21.000000         216.525000       114.750000   \n",
       "max                46.000000         335.500000       163.000000   \n",
       "\n",
       "       total day charge  total eve minutes  total eve calls  total eve charge  \\\n",
       "count        834.000000         834.000000       834.000000        834.000000   \n",
       "mean          30.444880         201.305396       100.621103         17.111103   \n",
       "std            9.469929          50.997535        19.465495          4.334750   \n",
       "min            0.000000          31.200000        48.000000          2.650000   \n",
       "25%           24.350000         167.300000        87.000000         14.220000   \n",
       "50%           30.680000         202.600000       101.000000         17.220000   \n",
       "75%           36.807500         236.925000       114.000000         20.142500   \n",
       "max           57.040000         341.300000       164.000000         29.010000   \n",
       "\n",
       "       total night minutes  total night calls  total night charge  \\\n",
       "count           834.000000         834.000000          834.000000   \n",
       "mean            201.624101         100.719424            9.073297   \n",
       "std              49.759134          19.693094            2.239232   \n",
       "min              43.700000          36.000000            1.970000   \n",
       "25%             167.875000          88.000000            7.557500   \n",
       "50%             201.750000         101.000000            9.080000   \n",
       "75%             234.900000         114.000000           10.570000   \n",
       "max             367.700000         166.000000           16.550000   \n",
       "\n",
       "       total intl minutes  total intl calls  total intl charge  \\\n",
       "count          834.000000        834.000000         834.000000   \n",
       "mean            10.176259          4.576739           2.748094   \n",
       "std              2.775474          2.547411           0.749223   \n",
       "min              0.000000          0.000000           0.000000   \n",
       "25%              8.400000          3.000000           2.270000   \n",
       "50%             10.200000          4.000000           2.750000   \n",
       "75%             12.175000          6.000000           3.285000   \n",
       "max             18.900000         20.000000           5.100000   \n",
       "\n",
       "       customer service calls     gtr_avg  \n",
       "count              834.000000  834.000000  \n",
       "mean                 1.545564    2.432854  \n",
       "std                  1.274352    0.837836  \n",
       "min                  0.000000    0.000000  \n",
       "25%                  1.000000    2.000000  \n",
       "50%                  1.000000    3.000000  \n",
       "75%                  2.000000    3.000000  \n",
       "max                  7.000000    3.000000  "
      ]
     },
     "execution_count": 368,
     "metadata": {},
     "output_type": "execute_result"
    }
   ],
   "source": [
    "Xtest.describe()"
   ]
  },
  {
   "cell_type": "code",
   "execution_count": null,
   "metadata": {},
   "outputs": [],
   "source": []
  }
 ],
 "metadata": {
  "kernelspec": {
   "display_name": "learn-env",
   "language": "python",
   "name": "learn-env"
  },
  "language_info": {
   "codemirror_mode": {
    "name": "ipython",
    "version": 3
   },
   "file_extension": ".py",
   "mimetype": "text/x-python",
   "name": "python",
   "nbconvert_exporter": "python",
   "pygments_lexer": "ipython3",
   "version": "3.6.9"
  }
 },
 "nbformat": 4,
 "nbformat_minor": 4
}
